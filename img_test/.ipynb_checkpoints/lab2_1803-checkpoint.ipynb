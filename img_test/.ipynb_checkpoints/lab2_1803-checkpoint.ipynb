{
 "cells": [
  {
   "cell_type": "markdown",
   "metadata": {},
   "source": [
    "# First jupyter notebook\n",
    "\n",
    "1. First steps: [DataCamp tutorials](https://www.datacamp.com/community/tutorials/tutorial-jupyter-notebook)\n",
    "2. Jupiter uses markdown: [Some tutorial](https://commonmark.org/help/)\n",
    "\n",
    "## Install conda extension\n",
    "\n",
    "1. Run terminal\n",
    "2. In (base) environment run: *conda install nb_conda*\n",
    "\n",
    "\n",
    "\n",
    "# Preparation of the environment\n",
    "\n",
    "## Conda environment\n",
    "\n",
    "1. Run terminal\n",
    "2. Create new environment: *conda create -n lab2*\n",
    "3. Activate environment: *conda activate lab2*\n",
    "3. Install pakages:\n",
    "\n",
    "   - numpy: for operations on an array of numbers\n",
    "   - scipy: image processing functions\n",
    "   - pillow (PIL): opening image files, image processing functions \n",
    "     > *conda install -c anaconda numpy scipy pillow* \n",
    "   - matplotlib: displaying images on the screen\n",
    "     > *conda install -c conda-forge matplotlib*\n",
    "   - ipykernel: jupyter's packages\n",
    "     > *conda install -c anaconda ipykernel*\n",
    "\n",
    "## Date\n",
    "\n",
    "1. Go to page: [ImageProcessingPlace](http://imageprocessingplace.com/root_files_V3/image_databases.htm).\n",
    "2. Download zip file - fifth (5) row of the table.\n",
    "3. Create a directory on the disk and extract the images to it.\n",
    "\n",
    "## Runnig jupyter\n",
    "\n",
    "1. Start a terminal or deactivate an environment other than 'base' if it is running\n",
    "2. In the 'base' environment, run:\n",
    "    > jupyter notebook\n",
    "3. In the opened browser window, go to the directory in which you will work (with images downloaded from the Internet).\n",
    "4. Click 'New' in the upper right corner of the window and select the 'lab2' environment. A new notebook window will open.\n",
    "\n",
    "## Changing the notebook name\n",
    "\n",
    "1. A notebook file has been created in the working directory: *Untitled.ipynb*\n",
    "2. Close notepad: menu *File / Close and Halt*\n",
    "3. In the file browser jupiter window will know the notebook file and click the 'rename' icon in the top menu\n",
    "4. Rename the notebook file.\n",
    "5. Launch the notebook by clicking it.\n",
    "\n",
    "\n",
    "# Image processing with Python\n",
    "\n",
    "Import modules:"
   ]
  },
  {
   "cell_type": "code",
   "execution_count": 8,
   "metadata": {},
   "outputs": [],
   "source": [
    "import numpy as np\n",
    "import scipy\n",
    "from matplotlib import pyplot as plt\n",
    "from PIL import Image"
   ]
  },
  {
   "cell_type": "markdown",
   "metadata": {},
   "source": [
    "## Exercises for indexing arrays numpy\n",
    "\n",
    "Create a 2-dimensional array: 3 rows, 6 columns:\n",
    "  > function np.arange(start, stop, step) - step=1 default\n",
    "   \n",
    "### Selecting array elements by specifying indexes:\n",
    "   \n",
    "   - selection principle:\n",
    "     - first, indexes of rows are given, then indexes of columns\n",
    "     - indexes are given by: [start, stop, step, start, stop, step]\n",
    "   - examples of row and column selection:"
   ]
  },
  {
   "cell_type": "code",
   "execution_count": 9,
   "metadata": {},
   "outputs": [
    {
     "data": {
      "text/plain": [
       "array([[ 0,  1,  2,  3,  4,  5],\n",
       "       [ 6,  7,  8,  9, 10, 11],\n",
       "       [12, 13, 14, 15, 16, 17]])"
      ]
     },
     "execution_count": 9,
     "metadata": {},
     "output_type": "execute_result"
    }
   ],
   "source": [
    "x = np.arange(3*6).reshape(3,6)\n",
    "x"
   ]
  },
  {
   "cell_type": "code",
   "execution_count": 10,
   "metadata": {},
   "outputs": [
    {
     "name": "stdout",
     "output_type": "stream",
     "text": [
      "[[ 0  1  2  3  4  5]\n",
      " [ 6  7  8  9 10 11]\n",
      " [12 13 14 15 16 17]] \n",
      "\n",
      "[0 1 2 3 4 5] \n",
      "\n",
      "[[10 11]\n",
      " [16 17]] \n",
      "\n",
      "[[10 11]\n",
      " [16 17]] \n",
      "\n"
     ]
    }
   ],
   "source": [
    "# select all rows (':' character) and all columns (':' character)\n",
    "print(x[:,:],'\\n')\n",
    "\n",
    "# select 1 row (index 0) and all columns (the sign ':')\n",
    "print(x[0,:],'\\n')\n",
    "\n",
    "#select the last two rows and the last two columns\n",
    "print(x[1:,4:],'\\n')\n",
    "\n",
    "# or\n",
    "print(x[-2:,-2:],'\\n')"
   ]
  },
  {
   "cell_type": "code",
   "execution_count": 11,
   "metadata": {},
   "outputs": [
    {
     "name": "stdout",
     "output_type": "stream",
     "text": [
      "[[ 0  3]\n",
      " [12 15]] \n",
      "\n",
      "[[ 0  3]\n",
      " [12 15]] \n",
      "\n"
     ]
    }
   ],
   "source": [
    "# select every second row and every third column\n",
    "print(x[0:3:2,0:6:3],'\\n') \n",
    "\n",
    "# or\n",
    "print(x[::2,::3],'\\n') "
   ]
  },
  {
   "cell_type": "markdown",
   "metadata": {},
   "source": [
    "### Selecting items by logical conditions"
   ]
  },
  {
   "cell_type": "code",
   "execution_count": 14,
   "metadata": {},
   "outputs": [
    {
     "name": "stdout",
     "output_type": "stream",
     "text": [
      "select items larger than 10\n",
      "[11 12 13 14 15 16 17]\n",
      "\n",
      "\n",
      "select items larger than 8 and smaller than 15\n",
      "[ 9 10 11 12 13 14]\n"
     ]
    }
   ],
   "source": [
    "s ='select items larger than 10'\n",
    "print(s,x[x>10],'\\n',sep='\\n')\n",
    "\n",
    "s = 'select items larger than 8 and smaller than 15'\n",
    "print(s,x[(x>8) & (x<15)],sep='\\n')"
   ]
  },
  {
   "cell_type": "markdown",
   "metadata": {},
   "source": [
    "### Assigning new values to array cells selected based on a logical condition\n",
    "\n",
    "**f'text {}'**: displayed by the print() text function, it is formatted using f-string', see here: [zetcode](http://zetcode.com/python/fstring/)"
   ]
  },
  {
   "cell_type": "code",
   "execution_count": 15,
   "metadata": {},
   "outputs": [
    {
     "name": "stdout",
     "output_type": "stream",
     "text": [
      "oryginal:\n",
      "[[ 0  1  2  3  4  5]\n",
      " [ 6  7  8  9 10 11]\n",
      " [12 13 14 15 16 17]]\n",
      "\n",
      "Replace less than 6 with 99:\n",
      "[[99 99 99 99 99 99]\n",
      " [ 6  7  8  9 10 11]\n",
      " [12 13 14 15 16 17]]\n",
      "\n",
      "Replace larger than 9 and smaller than 15 with 1000\n",
      "[[  0   1   2   3   4   5]\n",
      " [  6   7   8   9 100 100]\n",
      " [100 100 100  15  16  17]]\n"
     ]
    }
   ],
   "source": [
    "s1 = 'Replace less than 6 with 99'\n",
    "x1 = x.copy()\n",
    "x1[x<6] = 99\n",
    "\n",
    "s2 = 'Replace larger than 9 and smaller than 15 with 1000'\n",
    "x2 = x.copy()\n",
    "x2[(x2>9) & (x2<15)] = 100\n",
    "\n",
    "print(f'oryginal:\\n{x}\\n\\n{s1}:\\n{x1}\\n\\n{s2}\\n{x2}')"
   ]
  },
  {
   "cell_type": "markdown",
   "metadata": {},
   "source": [
    "## Image loading\n",
    "\n",
    ">If the notebook file was created in the image directory then access to the image files is done by entering the file name - no need to enter the full address"
   ]
  },
  {
   "cell_type": "code",
   "execution_count": 32,
   "metadata": {},
   "outputs": [
    {
     "name": "stdout",
     "output_type": "stream",
     "text": [
      "What object is \"im\": <class 'PIL.TiffImagePlugin.TiffImageFile'>\n",
      "\n",
      "numpy array:\n",
      "                         typ:\t<class 'numpy.ndarray'>\n",
      "                       shape:\t(512, 512)\n",
      "data type of the numpy array:\tuint8\n"
     ]
    }
   ],
   "source": [
    "# %pwd - magic command - checks the current working directory\n",
    "%pwd\n",
    "\n",
    "ad = './lena_gray_512.tif' # '.' means the current directory, i.e. here 'standard_test_images'\n",
    "im = Image.open(ad)\n",
    "print(f'What object is \"im\": {type(im)}')\n",
    "\n",
    "# convert the im object to the numpy array\n",
    "ar = np.array(im)\n",
    "print(f'\\nnumpy array:\\n{\"typ\":>28}:\\t{type(ar)}\\n{\"shape\":>28}:\\t{ar.shape}')\n",
    "print(f'data type of the numpy array:\\t{ar.dtype}')"
   ]
  },
  {
   "cell_type": "markdown",
   "metadata": {},
   "source": [
    "## Show pictures: im and ar\n",
    "\n",
    "- plt.gray(): sets the display mode in gray colors\n",
    "- enumerate(): built-in function of Python, gives automatic counter. See: [enumerate](https://docs.python.org/3.7/library/functions.html#enumerate)\n",
    "- plt.subplot(): creates a grid of charts: number of columns, number of rows, image number.\n",
    "- plt.imshow(): displays the image\n",
    "- plt.title(): displays the image title"
   ]
  },
  {
   "cell_type": "code",
   "execution_count": 34,
   "metadata": {},
   "outputs": [
    {
     "data": {
      "image/png": "[encoded data removed]",
      "text/plain": [
       "<Figure size 432x288 with 2 Axes>"
      ]
     },
     "metadata": {
      "needs_background": "light"
     },
     "output_type": "display_data"
    }
   ],
   "source": [
    "# list of image titles\n",
    "tit = ['pillow image','numpy array']\n",
    "plt.gray()\n",
    "for i,img in enumerate([im,ar],1):\n",
    "    plt.subplot(1,2,i)  # 2 images: one row, two columns\n",
    "    plt.imshow(img)\n",
    "    plt.title(tit[i-1])"
   ]
  },
  {
   "cell_type": "markdown",
   "metadata": {},
   "source": [
    "## Image histogram\n",
    "\n",
    "- plt.hist(): calculates and displays a histogram for a 1-dimensional data vector\n",
    "- ar.ravel(): converts a 2-dimensional array to a 1-dimensional vector\n",
    "- bins: number of histogram intervals"
   ]
  },
  {
   "cell_type": "code",
   "execution_count": 36,
   "metadata": {
    "scrolled": true
   },
   "outputs": [
    {
     "data": {
      "image/png": "[encoded data removed]",
      "text/plain": [
       "<Figure size 432x288 with 1 Axes>"
      ]
     },
     "metadata": {
      "needs_background": "light"
     },
     "output_type": "display_data"
    }
   ],
   "source": [
    "plt.hist(ar.ravel(),bins=60);"
   ]
  },
  {
   "cell_type": "markdown",
   "metadata": {},
   "source": [
    "## Histogram thresholding\n",
    "Simple, manual threshold setting in the histogram and division into classes:\n",
    "  - division into 4 classes: 1,2,3,4\n",
    "  - threshold values: 0-75, 75-115, 115-175, 175-255"
   ]
  },
  {
   "cell_type": "code",
   "execution_count": 38,
   "metadata": {},
   "outputs": [
    {
     "name": "stdout",
     "output_type": "stream",
     "text": [
      "class: 1, range: (0, 75)\n",
      "class: 2, range: (75, 115)\n",
      "class: 3, range: (115, 175)\n",
      "class: 4, range: (175, 255)\n"
     ]
    }
   ],
   "source": [
    "# class\n",
    "cl = list(range(1,5))\n",
    "# ranges\n",
    "r = [(0,75), (75,115), (115,175), (175,255)]\n",
    "for i, c in enumerate(cl):\n",
    "    print(f'class: {c}, range: {r[i]}')"
   ]
  },
  {
   "cell_type": "code",
   "execution_count": 70,
   "metadata": {
    "scrolled": true
   },
   "outputs": [
    {
     "data": {
      "image/png": "[encoded data removed]",
      "text/plain": [
       "<Figure size 432x288 with 1 Axes>"
      ]
     },
     "metadata": {
      "needs_background": "light"
     },
     "output_type": "display_data"
    }
   ],
   "source": [
    "# assigning class values to the image\n",
    "ar1 = ar.copy()\n",
    "\n",
    "r1 = r[0]\n",
    "ar1[(ar>=r1[0]) & (ar<r1[1])] = cl[0]\n",
    "\n",
    "r2 = r[1]\n",
    "ar1[(ar>=r2[0]) & (ar<r2[1])] = cl[1]\n",
    "\n",
    "r3 = r[2]\n",
    "ar1[(ar>=r3[0]) & (ar<r3[1])] = cl[2]\n",
    "\n",
    "r4 = r[3]\n",
    "ar1[(ar>=r4[0]) & (ar<r4[1])] = cl[3]\n",
    "\n",
    "plt.hist(ar1.ravel(), bins =7);"
   ]
  },
  {
   "cell_type": "code",
   "execution_count": 71,
   "metadata": {},
   "outputs": [
    {
     "data": {
      "image/png": "[encoded data removed]",
      "text/plain": [
       "<Figure size 432x288 with 1 Axes>"
      ]
     },
     "metadata": {
      "needs_background": "light"
     },
     "output_type": "display_data"
    }
   ],
   "source": [
    "plt.imshow(ar1);"
   ]
  },
  {
   "cell_type": "code",
   "execution_count": 59,
   "metadata": {},
   "outputs": [
    {
     "name": "stdout",
     "output_type": "stream",
     "text": [
      "[1 2 3 4]\n"
     ]
    }
   ],
   "source": [
    "print(np.unique(ar1))"
   ]
  }
 ],
 "metadata": {
  "kernelspec": {
   "display_name": "Python [conda env:lab2]",
   "language": "python",
   "name": "conda-env-lab2-py"
  },
  "language_info": {
   "codemirror_mode": {
    "name": "ipython",
    "version": 3
   },
   "file_extension": ".py",
   "mimetype": "text/x-python",
   "name": "python",
   "nbconvert_exporter": "python",
   "pygments_lexer": "ipython3",
   "version": "3.8.1"
  }
 },
 "nbformat": 4,
 "nbformat_minor": 4
}
