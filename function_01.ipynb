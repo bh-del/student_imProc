{
 "cells": [
  {
   "cell_type": "code",
   "execution_count": 1,
   "metadata": {},
   "outputs": [],
   "source": [
    "import numpy as np\n",
    "from matplotlib import pylab as plt"
   ]
  },
  {
   "cell_type": "markdown",
   "metadata": {},
   "source": [
    "# Function to calculate the image size\n",
    "\n",
    "Setting the dimensions of the image:\n",
    "- plt.figure() method with the argument 'figsize': plt.figure(figsize = (8,6))\n",
    "- dimensions are a tupla of numbers: (width, hight) in inches\n",
    "\n",
    "Relationship between the array dimension and the image dimension:\n",
    "- the image size depends on the size of the array (number of rows, number of columns)\n",
    "- array pixels / cells are square and dimensionless\n",
    "- the size depends on how many pixels (columns, rows) per unit of length (1 inch) are - this parameter is `ppi` (ixels per inch)\n",
    "- for the resolution for printing, an equivalent dpi parameter is used `dpi` (dots per inch)\n",
    "- the larger the dpi, the smaller the image and vice versa:\n",
    "\n",
    "$$ \\begin{align}\n",
    "width &=& number\\_of\\_columns * 1/ppi\\\\\n",
    "hight &=& number\\_of\\_rows * 1/ppi\n",
    "\\end{align}$$"
   ]
  },
  {
   "cell_type": "code",
   "execution_count": 2,
   "metadata": {},
   "outputs": [],
   "source": [
    "def mySize(arrList,dpi = 100):\n",
    "    ''' Only up to 6 images, 3 images per row.\n",
    "        Args:\n",
    "            - arrList:   list of numpy arrays\n",
    "            - dpi:       piksel for inch\n",
    "    '''\n",
    "    dpi = 1/dpi\n",
    "    h = max([x.shape[0] for x in arrList])\n",
    "    w = max([x.shape[1] for x in arrList])\n",
    "    l = len(arrList)\n",
    "    if l == 1:\n",
    "        height = h\n",
    "        width = w\n",
    "    elif l <= 3:\n",
    "        height = h\n",
    "        width = w * l\n",
    "    elif l > 3 and l < 7:\n",
    "        height = h * 2\n",
    "        width = w * 3\n",
    "    return int(width * dpi), int(height * dpi)"
   ]
  },
  {
   "cell_type": "markdown",
   "metadata": {},
   "source": [
    "# OTSU’S METHOD FOR IMAGE THESHOLDING\n",
    "\n",
    "The digital image has pixels with different values associated with different objects. The distribution of pixel values is characterized by the mean value $\\mu$ and variance $\\sigma^2$.\n",
    "\n",
    "\n",
    "The method is based on the assumption that there are two separating groups of pixel values (classes) in the image: for background and for xxx. The algorithm looks for a place on the histogram in which the division can occur.\n",
    "Each class has its own distribution of pixel values. The place of division is a place for which:\n",
    "- the sum of variances within groups ($\\sigma_w^2$) is minimal\n",
    "\n",
    "or\n",
    "- variance between groups ($\\sigma_p$) is maximum"
   ]
  },
  {
   "cell_type": "code",
   "execution_count": 3,
   "metadata": {},
   "outputs": [],
   "source": [
    "def myOtsu(ar):\n",
    "    ar = ar.copy()\n",
    "    ar = ar.ravel() # converts 2D arrays to 1 dimensional data vector\n",
    "    mu = ar.mean()    # total mean value\n",
    "    N = ar.size\n",
    "    K = 2\n",
    "    pixelVal = np.arange(256)\n",
    "    threshold =[0,0] # collects two values: [sigma, threshold]\n",
    "    \n",
    "    # data to the graph as variance changes\n",
    "    tt = [] # collects threshold values\n",
    "    sg =[]  # collects variances\n",
    "   \n",
    "    for t in pixelVal: \n",
    "        cl1 = ar[(ar < t)]\n",
    "        cl2 = ar[ar >= t]\n",
    "        \n",
    "        #if any class has zero elements - skip this threshold\n",
    "        if cl1.size ==0 or cl2.size == 0:\n",
    "            continue\n",
    "        \n",
    "        N1,N2 = cl1.size, cl2.size\n",
    "        w1,w2 = N1/N, N2/N  # calculate weight\n",
    "        mu1,mu2 = cl1.mean(), cl2.mean()\n",
    "        \n",
    "        sigma_p = (w1*(mu1-mu)**2 + w2*(mu2-mu)**2)/(K-1)\n",
    "        sigma_p = np.round(sigma_p,0)\n",
    "              \n",
    "        tt.append(t)\n",
    "        sg.append(int(sigma_p))\n",
    "        \n",
    "        # it starts with the value threshold[0] = 0\n",
    "        if sigma_p > threshold[0]:\n",
    "            threshold[0]= sigma_p\n",
    "            threshold[1] = t  \n",
    "    del ar\n",
    "\n",
    "    return (tt,sg,threshold)"
   ]
  },
  {
   "cell_type": "markdown",
   "metadata": {},
   "source": [
    "# Simple plotting function\n",
    "\n",
    "During the exercises, images are displayed, usually from 2 to 6. In order not to write an image loop every time, the code used will be saved as a function:\n",
    "  - displays up to 6 images\n",
    "  - 1 or 2 rows of three images each"
   ]
  },
  {
   "cell_type": "code",
   "execution_count": 4,
   "metadata": {},
   "outputs": [],
   "source": [
    "def myplot(images,titles,size=None,hist=None):\n",
    "    ''' images - list of images (np.arrays)\n",
    "        titles - list of image titles\n",
    "        size   - tuple of image size in inch eg. (10,12)\n",
    "    '''\n",
    "    images = images[:]\n",
    "    if len(images) > 3:\n",
    "        rows,cols = 2, 6\n",
    "    else:\n",
    "        rows, cols= 1, len(images)\n",
    "    if size:\n",
    "        f = plt.figure(figsize=size)\n",
    "    else:\n",
    "        f = plt.figure()\n",
    "    for i,img in enumerate(images,1): # i - image number from 1\n",
    "        plt.subplot(rows,cols,i)\n",
    "        if hist:\n",
    "            plt.hist(img.ravel(),bins=256)\n",
    "        else:\n",
    "            plt.imshow(img, cmap=plt.cm.Greys_r)\n",
    "            plt.axis('off')\n",
    "        plt.title(titles[i-1])\n",
    "        \n",
    "    f.tight_layout()"
   ]
  },
  {
   "cell_type": "markdown",
   "metadata": {},
   "source": [
    "# Stretching\n",
    "Simple function for histogram stretching:\n",
    "  - line function\n",
    "  - manual selection of stretch limits"
   ]
  },
  {
   "cell_type": "code",
   "execution_count": 5,
   "metadata": {},
   "outputs": [],
   "source": [
    "def myStretch(ar,t):\n",
    "    ''' Args:\n",
    "            - ar:   numpy 2D array like image\n",
    "            - t:    tuple (a, b), a: threshold on the left\n",
    "                                  b: threshold on the right'''\n",
    "    ar = ar.copy()\n",
    "    \n",
    "    # transformation coefficients: point 1: t, point 2: (245,255)\n",
    "    a,b = np.polyfit(t,[0,255],1)\n",
    "    print(f'Transformation coefficients:\\n{\"a:\":>15} {a}, b: {b}\\n')\n",
    "    x = np.unique(ar.ravel())\n",
    "    y = a*x + b\n",
    "\n",
    "    new_ar = ar * a + b\n",
    "    new_ar[ar<0] = 0\n",
    "    new_ar[ar>255] = 255\n",
    "    new_ar = np.array(new_ar,dtype=np.uint8)\n",
    "    \n",
    "    return new_ar"
   ]
  },
  {
   "cell_type": "markdown",
   "metadata": {},
   "source": [
    "# Conversion to grayscale"
   ]
  },
  {
   "cell_type": "code",
   "execution_count": null,
   "metadata": {},
   "outputs": [],
   "source": [
    "def rgbToGray(ar,weights=[0.11,0.59,0.3]):\n",
    "    gr = ar.copy()\n",
    "    weights = weights[:]\n",
    "    \n",
    "    for i,ww in enumerate(weights):\n",
    "        gr[:,:,i] = gr[:,:,i] * ww\n",
    "    \n",
    "    gr = np.array(np.sum(gr,axis=2),dtype=np.uint8)\n",
    "    return gr"
   ]
  },
  {
   "cell_type": "markdown",
   "metadata": {},
   "source": [
    "# Histogram equalization\n",
    "Simple function for Histogram equalization:\n",
    " - calculate CDF (cumulative distributive function)\n",
    " - multiply the CDF value with gray levels (for 8 bits = 256-1 = 255)"
   ]
  },
  {
   "cell_type": "code",
   "execution_count": 6,
   "metadata": {},
   "outputs": [],
   "source": [
    "def myEqual(ar,c=0):\n",
    "    ''' Args:\n",
    "            - ar:   numpy 2D array like image'''\n",
    "    ar = ar.copy()\n"
   ]
  }
 ],
 "metadata": {
  "kernelspec": {
   "display_name": "Python 3",
   "language": "python",
   "name": "python3"
  },
  "language_info": {
   "codemirror_mode": {
    "name": "ipython",
    "version": 3
   },
   "file_extension": ".py",
   "mimetype": "text/x-python",
   "name": "python",
   "nbconvert_exporter": "python",
   "pygments_lexer": "ipython3",
   "version": "3.7.6"
  }
 },
 "nbformat": 4,
 "nbformat_minor": 4
}
